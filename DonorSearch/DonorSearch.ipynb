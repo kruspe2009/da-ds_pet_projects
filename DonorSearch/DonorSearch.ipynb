{
  "nbformat": 4,
  "nbformat_minor": 0,
  "metadata": {
    "colab": {
      "name": "DonorSearch.ipynb",
      "provenance": [],
      "collapsed_sections": [],
      "toc_visible": true,
      "mount_file_id": "1Mq67SHO7-51OalPOqqIaDSuk6KPejDoF",
      "authorship_tag": "ABX9TyNQz1Qxtcedmg0XR6KyAJ+d",
      "include_colab_link": true
    },
    "kernelspec": {
      "name": "python3",
      "display_name": "Python 3"
    },
    "language_info": {
      "name": "python"
    }
  },
  "cells": [
    {
      "cell_type": "markdown",
      "metadata": {
        "id": "view-in-github",
        "colab_type": "text"
      },
      "source": [
        "<a href=\"https://colab.research.google.com/github/kruspe2009/volunteer_projects/blob/main/DonorSearch/DonorSearch.ipynb\" target=\"_parent\"><img src=\"https://colab.research.google.com/assets/colab-badge.svg\" alt=\"Open In Colab\"/></a>"
      ]
    },
    {
      "cell_type": "markdown",
      "metadata": {
        "id": "yUU_IlwMUtJN"
      },
      "source": [
        "# Описание проекта\n"
      ]
    },
    {
      "cell_type": "markdown",
      "metadata": {
        "id": "y2kePiHrUz_7"
      },
      "source": [
        "Сервис DonorSearch поставил перед собой 2 цели: \n",
        "\n",
        "1.   Увеличить количество доноров\n",
        "2.   Больше вовлекать существующих доноров\n",
        "\n",
        "В качестве исходных данных предоставлены 3 таблицы:\n",
        "\n",
        "\n",
        "\n",
        "*   Донации крови\n",
        "*   Планируемые донации крови\n",
        "*   Анонимная таблица доноров\n",
        "\n",
        "\n"
      ]
    },
    {
      "cell_type": "markdown",
      "metadata": {
        "id": "4_eO7gQlSBTb"
      },
      "source": [
        "# Импорт библиотек и чтение данных"
      ]
    },
    {
      "cell_type": "code",
      "metadata": {
        "id": "n_svGB2VLisV"
      },
      "source": [
        "import pandas as pd"
      ],
      "execution_count": 1,
      "outputs": []
    },
    {
      "cell_type": "code",
      "metadata": {
        "id": "EWu2RPZfNXXT"
      },
      "source": [
        "donations_anon = pd.read_csv('/content/drive/MyDrive/Colab Notebooks/DonorSearch/donations_anon.csv')\n",
        "plan_anon = pd.read_csv('/content/drive/MyDrive/Colab Notebooks/DonorSearch/plan_anon.csv')\n",
        "users_anon = pd.read_csv('/content/drive/MyDrive/Colab Notebooks/DonorSearch/users_anon.csv')"
      ],
      "execution_count": 2,
      "outputs": []
    },
    {
      "cell_type": "markdown",
      "metadata": {
        "id": "olMmyDZOUXdz"
      },
      "source": [
        "# Знакомство с данными\n",
        "\n"
      ]
    },
    {
      "cell_type": "markdown",
      "metadata": {
        "id": "Hze5sz7QUkXP"
      },
      "source": [
        "## Предобработка данных"
      ]
    },
    {
      "cell_type": "markdown",
      "metadata": {
        "id": "hkomQENg4-Y1"
      },
      "source": [
        "## Таблица `donations_anon`"
      ]
    },
    {
      "cell_type": "code",
      "metadata": {
        "colab": {
          "base_uri": "https://localhost:8080/",
          "height": 204
        },
        "id": "iPefubHX5Eoj",
        "outputId": "e258ac28-e000-4447-cea1-c7bcf5339061"
      },
      "source": [
        "#изучим данные в таблице\n",
        "donations_anon.head()"
      ],
      "execution_count": 3,
      "outputs": [
        {
          "output_type": "execute_result",
          "data": {
            "text/html": [
              "<div>\n",
              "<style scoped>\n",
              "    .dataframe tbody tr th:only-of-type {\n",
              "        vertical-align: middle;\n",
              "    }\n",
              "\n",
              "    .dataframe tbody tr th {\n",
              "        vertical-align: top;\n",
              "    }\n",
              "\n",
              "    .dataframe thead th {\n",
              "        text-align: right;\n",
              "    }\n",
              "</style>\n",
              "<table border=\"1\" class=\"dataframe\">\n",
              "  <thead>\n",
              "    <tr style=\"text-align: right;\">\n",
              "      <th></th>\n",
              "      <th>ID</th>\n",
              "      <th>ID пользователя</th>\n",
              "      <th>Класс крови</th>\n",
              "      <th>Дата донации</th>\n",
              "      <th>Дата добавления донации</th>\n",
              "      <th>Тип донации</th>\n",
              "      <th>Регион</th>\n",
              "      <th>Место стадчи</th>\n",
              "      <th>Статус донации</th>\n",
              "      <th>Есть справка</th>\n",
              "    </tr>\n",
              "  </thead>\n",
              "  <tbody>\n",
              "    <tr>\n",
              "      <th>0</th>\n",
              "      <td>97920</td>\n",
              "      <td>151894</td>\n",
              "      <td>Плазма</td>\n",
              "      <td>02.06.2021</td>\n",
              "      <td>02.06.2021</td>\n",
              "      <td>Безвозмездно</td>\n",
              "      <td>Россия, Москва</td>\n",
              "      <td>647</td>\n",
              "      <td>На модерации</td>\n",
              "      <td>Да</td>\n",
              "    </tr>\n",
              "    <tr>\n",
              "      <th>1</th>\n",
              "      <td>97919</td>\n",
              "      <td>156916</td>\n",
              "      <td>Тромбоциты</td>\n",
              "      <td>02.06.2021</td>\n",
              "      <td>02.06.2021</td>\n",
              "      <td>Безвозмездно</td>\n",
              "      <td>Россия, Москва</td>\n",
              "      <td>633</td>\n",
              "      <td>На модерации</td>\n",
              "      <td>Да</td>\n",
              "    </tr>\n",
              "    <tr>\n",
              "      <th>2</th>\n",
              "      <td>97918</td>\n",
              "      <td>149413</td>\n",
              "      <td>Цельная кровь</td>\n",
              "      <td>01.06.2021</td>\n",
              "      <td>02.06.2021</td>\n",
              "      <td>Безвозмездно</td>\n",
              "      <td>Россия, Приморский край, Владивосток</td>\n",
              "      <td>325</td>\n",
              "      <td>Принята</td>\n",
              "      <td>Да</td>\n",
              "    </tr>\n",
              "    <tr>\n",
              "      <th>3</th>\n",
              "      <td>97917</td>\n",
              "      <td>155027</td>\n",
              "      <td>Цельная кровь</td>\n",
              "      <td>02.06.2021</td>\n",
              "      <td>02.06.2021</td>\n",
              "      <td>Безвозмездно</td>\n",
              "      <td>Россия, Саратовская область, Саратов</td>\n",
              "      <td>500</td>\n",
              "      <td>Принята</td>\n",
              "      <td>Да</td>\n",
              "    </tr>\n",
              "    <tr>\n",
              "      <th>4</th>\n",
              "      <td>97916</td>\n",
              "      <td>151094</td>\n",
              "      <td>Цельная кровь</td>\n",
              "      <td>23.04.2021</td>\n",
              "      <td>02.06.2021</td>\n",
              "      <td>Безвозмездно</td>\n",
              "      <td>Россия, Свердловская область, Екатеринбург</td>\n",
              "      <td>509</td>\n",
              "      <td>Принята</td>\n",
              "      <td>Да</td>\n",
              "    </tr>\n",
              "  </tbody>\n",
              "</table>\n",
              "</div>"
            ],
            "text/plain": [
              "      ID  ID пользователя  ... Статус донации Есть справка\n",
              "0  97920           151894  ...   На модерации           Да\n",
              "1  97919           156916  ...   На модерации           Да\n",
              "2  97918           149413  ...        Принята           Да\n",
              "3  97917           155027  ...        Принята           Да\n",
              "4  97916           151094  ...        Принята           Да\n",
              "\n",
              "[5 rows x 10 columns]"
            ]
          },
          "metadata": {
            "tags": []
          },
          "execution_count": 3
        }
      ]
    },
    {
      "cell_type": "code",
      "metadata": {
        "colab": {
          "base_uri": "https://localhost:8080/"
        },
        "id": "eP4R3zoI5Pyr",
        "outputId": "e388616d-32a1-491b-fb80-0ae43c9d4f68"
      },
      "source": [
        "#посмотрим на столбцы\n",
        "donations_anon.info()"
      ],
      "execution_count": 4,
      "outputs": [
        {
          "output_type": "stream",
          "text": [
            "<class 'pandas.core.frame.DataFrame'>\n",
            "RangeIndex: 97874 entries, 0 to 97873\n",
            "Data columns (total 10 columns):\n",
            " #   Column                   Non-Null Count  Dtype \n",
            "---  ------                   --------------  ----- \n",
            " 0   ID                       97874 non-null  int64 \n",
            " 1   ID пользователя          97874 non-null  int64 \n",
            " 2   Класс крови              97874 non-null  object\n",
            " 3   Дата донации             97874 non-null  object\n",
            " 4   Дата добавления донации  97874 non-null  object\n",
            " 5   Тип донации              97874 non-null  object\n",
            " 6   Регион                   97874 non-null  object\n",
            " 7   Место стадчи             97874 non-null  object\n",
            " 8   Статус донации           97874 non-null  object\n",
            " 9   Есть справка             97874 non-null  object\n",
            "dtypes: int64(2), object(8)\n",
            "memory usage: 7.5+ MB\n"
          ],
          "name": "stdout"
        }
      ]
    },
    {
      "cell_type": "markdown",
      "metadata": {
        "id": "P-QaacF59wrN"
      },
      "source": [
        "В процессе чтения таблицы с данными о донациях, возникла проблема с парсингом даты - выяснилось, что некоторые даты указаны в формате, отличном от стандартного для данного датасета. Посмотрим на них более подробно. "
      ]
    },
    {
      "cell_type": "code",
      "metadata": {
        "colab": {
          "base_uri": "https://localhost:8080/"
        },
        "id": "m37piVRj5TA3",
        "outputId": "c71e3170-1151-4a4c-df92-42e952dbc18b"
      },
      "source": [
        "#\"стандарт\" для данного датасета - 10 символов в дате\n",
        "dates = set()\n",
        "\n",
        "#отберем даты, отличные от стандарта\n",
        "for date in donations_anon['Дата донации']:\n",
        "  if len(date) != 10:\n",
        "    dates.add(date)\n",
        "    print(date)"
      ],
      "execution_count": 5,
      "outputs": [
        {
          "output_type": "stream",
          "text": [
            "21.04.208\n",
            "27.04.201\n",
            "15.12.214\n",
            "24.05.207\n"
          ],
          "name": "stdout"
        }
      ]
    },
    {
      "cell_type": "code",
      "metadata": {
        "id": "5V-1RAAC_BJG"
      },
      "source": [
        "#уберем некорректные данные из датасета\n",
        "donations_anon = donations_anon[~donations_anon['Дата донации'].isin(dates)]"
      ],
      "execution_count": 6,
      "outputs": []
    },
    {
      "cell_type": "code",
      "metadata": {
        "id": "0gsOrUyPBR1j"
      },
      "source": [
        "#по столбцу \"Дата добавления донации\" проблем нет\n",
        "for date in donations_anon['Дата добавления донации']:\n",
        "  if len(date) != 10:\n",
        "    dates.add(date)\n",
        "    print(date)"
      ],
      "execution_count": 7,
      "outputs": []
    },
    {
      "cell_type": "markdown",
      "metadata": {
        "id": "O0BOc3RvFZIV"
      },
      "source": [
        "При попытке преобразовать дату донации из строкового формата в формат даты возвращается ошибка. По всей вероятности, помимо даты, в которой меньше символов, чем в стандартной дате, в некоторых строках указаны некорректные даты."
      ]
    },
    {
      "cell_type": "code",
      "metadata": {
        "id": "DL4-OmjMDhU_"
      },
      "source": [
        "date_list = set()\n",
        "\n",
        "for date in donations_anon['Дата донации']:\n",
        "  date_split = date.split('.')\n",
        "  for i in date_split:\n",
        "    if int(date_split[2]) > 2021 or int(date_split[2]) < 1980:\n",
        "      date_list.add(date)"
      ],
      "execution_count": 15,
      "outputs": []
    },
    {
      "cell_type": "code",
      "metadata": {
        "id": "Uj1FbaprEFqL"
      },
      "source": [
        "#снова уберем некорректные данные из датасета\n",
        "donations_anon = donations_anon[~donations_anon['Дата донации'].isin(date_list)]"
      ],
      "execution_count": 16,
      "outputs": []
    },
    {
      "cell_type": "code",
      "metadata": {
        "id": "GAB7KSC6GW1O"
      },
      "source": [
        "#преобразование дат из строкового типа в тип даты\n",
        "donations_anon['Дата донации'] = pd.to_datetime(donations_anon['Дата донации'])\n",
        "donations_anon['Дата добавления донации'] = pd.to_datetime(donations_anon['Дата добавления донации'])"
      ],
      "execution_count": 19,
      "outputs": []
    },
    {
      "cell_type": "code",
      "metadata": {
        "colab": {
          "base_uri": "https://localhost:8080/"
        },
        "id": "0uUTiamdTSM3",
        "outputId": "a6766d4c-cceb-44eb-dd28-3090d08f00f1"
      },
      "source": [
        "#посмотрим на дипазон дат добавления донации, так как с датой самой донации ранее мы уже обнаружили проблемы\n",
        "print('Минимальная дата добавления донации:', donations_anon['Дата добавления донации'].min())\n",
        "print('Максимальная дата добавления донации:',  donations_anon['Дата добавления донации'].max())"
      ],
      "execution_count": 24,
      "outputs": [
        {
          "output_type": "stream",
          "text": [
            "Минимальная дата добавления донации: 2020-01-12 00:00:00\n",
            "Максимальная дата добавления донации: 2021-12-05 00:00:00\n"
          ],
          "name": "stdout"
        }
      ]
    },
    {
      "cell_type": "code",
      "metadata": {
        "id": "zrPciczPTtLX"
      },
      "source": [
        ""
      ],
      "execution_count": null,
      "outputs": []
    }
  ]
}