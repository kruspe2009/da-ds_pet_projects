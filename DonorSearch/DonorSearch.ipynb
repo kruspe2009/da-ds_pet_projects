{
  "nbformat": 4,
  "nbformat_minor": 0,
  "metadata": {
    "colab": {
      "name": "DonorSearch.ipynb",
      "provenance": [],
      "collapsed_sections": [],
      "toc_visible": true,
      "mount_file_id": "1Mq67SHO7-51OalPOqqIaDSuk6KPejDoF",
      "authorship_tag": "ABX9TyPuPDJhfK8Yddas6JQQTijb",
      "include_colab_link": true
    },
    "kernelspec": {
      "name": "python3",
      "display_name": "Python 3"
    },
    "language_info": {
      "name": "python"
    }
  },
  "cells": [
    {
      "cell_type": "markdown",
      "metadata": {
        "id": "view-in-github",
        "colab_type": "text"
      },
      "source": [
        "<a href=\"https://colab.research.google.com/github/kruspe2009/volunteer_projects/blob/main/DonorSearch/DonorSearch.ipynb\" target=\"_parent\"><img src=\"https://colab.research.google.com/assets/colab-badge.svg\" alt=\"Open In Colab\"/></a>"
      ]
    },
    {
      "cell_type": "markdown",
      "metadata": {
        "id": "yUU_IlwMUtJN"
      },
      "source": [
        "# Описание проекта\n"
      ]
    },
    {
      "cell_type": "markdown",
      "metadata": {
        "id": "y2kePiHrUz_7"
      },
      "source": [
        "Сервис DonorSearch поставил перед собой 2 цели: \n",
        "\n",
        "1.   Увеличить количество доноров\n",
        "2.   Больше вовлекать существующих доноров\n",
        "\n",
        "В качестве исходных данных предоставлены 3 таблицы:\n",
        "\n",
        "\n",
        "\n",
        "*   Донации крови\n",
        "*   Планируемые донации крови\n",
        "*   Анонимная таблица доноров\n",
        "\n",
        "\n"
      ]
    },
    {
      "cell_type": "markdown",
      "metadata": {
        "id": "4_eO7gQlSBTb"
      },
      "source": [
        "# Импорт библиотек и чтение данных"
      ]
    },
    {
      "cell_type": "code",
      "metadata": {
        "id": "n_svGB2VLisV"
      },
      "source": [
        "import pandas as pd\n",
        "import numpy as np"
      ],
      "execution_count": 1,
      "outputs": []
    },
    {
      "cell_type": "code",
      "metadata": {
        "id": "EWu2RPZfNXXT"
      },
      "source": [
        "donations_anon = pd.read_csv('/content/drive/MyDrive/Colab Notebooks/DonorSearch/donations_anon.csv')\n",
        "plan_anon = pd.read_csv('/content/drive/MyDrive/Colab Notebooks/DonorSearch/plan_anon.csv')\n",
        "users_anon = pd.read_csv('/content/drive/MyDrive/Colab Notebooks/DonorSearch/users_anon.csv')"
      ],
      "execution_count": 2,
      "outputs": []
    },
    {
      "cell_type": "markdown",
      "metadata": {
        "id": "olMmyDZOUXdz"
      },
      "source": [
        "# Знакомство с данными\n",
        "\n"
      ]
    },
    {
      "cell_type": "markdown",
      "metadata": {
        "id": "Hze5sz7QUkXP"
      },
      "source": [
        "## Предобработка данных"
      ]
    },
    {
      "cell_type": "markdown",
      "metadata": {
        "id": "hkomQENg4-Y1"
      },
      "source": [
        "## Таблица `donations_anon`"
      ]
    },
    {
      "cell_type": "code",
      "metadata": {
        "colab": {
          "base_uri": "https://localhost:8080/",
          "height": 204
        },
        "id": "iPefubHX5Eoj",
        "outputId": "ac91c094-7acb-4702-a283-430ce52c2304"
      },
      "source": [
        "#изучим данные в таблице\n",
        "donations_anon.head()"
      ],
      "execution_count": 3,
      "outputs": [
        {
          "output_type": "execute_result",
          "data": {
            "text/html": [
              "<div>\n",
              "<style scoped>\n",
              "    .dataframe tbody tr th:only-of-type {\n",
              "        vertical-align: middle;\n",
              "    }\n",
              "\n",
              "    .dataframe tbody tr th {\n",
              "        vertical-align: top;\n",
              "    }\n",
              "\n",
              "    .dataframe thead th {\n",
              "        text-align: right;\n",
              "    }\n",
              "</style>\n",
              "<table border=\"1\" class=\"dataframe\">\n",
              "  <thead>\n",
              "    <tr style=\"text-align: right;\">\n",
              "      <th></th>\n",
              "      <th>ID</th>\n",
              "      <th>ID пользователя</th>\n",
              "      <th>Класс крови</th>\n",
              "      <th>Дата донации</th>\n",
              "      <th>Дата добавления донации</th>\n",
              "      <th>Тип донации</th>\n",
              "      <th>Регион</th>\n",
              "      <th>Место стадчи</th>\n",
              "      <th>Статус донации</th>\n",
              "      <th>Есть справка</th>\n",
              "    </tr>\n",
              "  </thead>\n",
              "  <tbody>\n",
              "    <tr>\n",
              "      <th>0</th>\n",
              "      <td>97920</td>\n",
              "      <td>151894</td>\n",
              "      <td>Плазма</td>\n",
              "      <td>02.06.2021</td>\n",
              "      <td>02.06.2021</td>\n",
              "      <td>Безвозмездно</td>\n",
              "      <td>Россия, Москва</td>\n",
              "      <td>647</td>\n",
              "      <td>На модерации</td>\n",
              "      <td>Да</td>\n",
              "    </tr>\n",
              "    <tr>\n",
              "      <th>1</th>\n",
              "      <td>97919</td>\n",
              "      <td>156916</td>\n",
              "      <td>Тромбоциты</td>\n",
              "      <td>02.06.2021</td>\n",
              "      <td>02.06.2021</td>\n",
              "      <td>Безвозмездно</td>\n",
              "      <td>Россия, Москва</td>\n",
              "      <td>633</td>\n",
              "      <td>На модерации</td>\n",
              "      <td>Да</td>\n",
              "    </tr>\n",
              "    <tr>\n",
              "      <th>2</th>\n",
              "      <td>97918</td>\n",
              "      <td>149413</td>\n",
              "      <td>Цельная кровь</td>\n",
              "      <td>01.06.2021</td>\n",
              "      <td>02.06.2021</td>\n",
              "      <td>Безвозмездно</td>\n",
              "      <td>Россия, Приморский край, Владивосток</td>\n",
              "      <td>325</td>\n",
              "      <td>Принята</td>\n",
              "      <td>Да</td>\n",
              "    </tr>\n",
              "    <tr>\n",
              "      <th>3</th>\n",
              "      <td>97917</td>\n",
              "      <td>155027</td>\n",
              "      <td>Цельная кровь</td>\n",
              "      <td>02.06.2021</td>\n",
              "      <td>02.06.2021</td>\n",
              "      <td>Безвозмездно</td>\n",
              "      <td>Россия, Саратовская область, Саратов</td>\n",
              "      <td>500</td>\n",
              "      <td>Принята</td>\n",
              "      <td>Да</td>\n",
              "    </tr>\n",
              "    <tr>\n",
              "      <th>4</th>\n",
              "      <td>97916</td>\n",
              "      <td>151094</td>\n",
              "      <td>Цельная кровь</td>\n",
              "      <td>23.04.2021</td>\n",
              "      <td>02.06.2021</td>\n",
              "      <td>Безвозмездно</td>\n",
              "      <td>Россия, Свердловская область, Екатеринбург</td>\n",
              "      <td>509</td>\n",
              "      <td>Принята</td>\n",
              "      <td>Да</td>\n",
              "    </tr>\n",
              "  </tbody>\n",
              "</table>\n",
              "</div>"
            ],
            "text/plain": [
              "      ID  ID пользователя  ... Статус донации Есть справка\n",
              "0  97920           151894  ...   На модерации           Да\n",
              "1  97919           156916  ...   На модерации           Да\n",
              "2  97918           149413  ...        Принята           Да\n",
              "3  97917           155027  ...        Принята           Да\n",
              "4  97916           151094  ...        Принята           Да\n",
              "\n",
              "[5 rows x 10 columns]"
            ]
          },
          "metadata": {
            "tags": []
          },
          "execution_count": 3
        }
      ]
    },
    {
      "cell_type": "code",
      "metadata": {
        "colab": {
          "base_uri": "https://localhost:8080/"
        },
        "id": "eP4R3zoI5Pyr",
        "outputId": "a805e3d9-6e73-47ee-8666-2f3ef5e64493"
      },
      "source": [
        "#посмотрим на столбцы\n",
        "donations_anon.info()"
      ],
      "execution_count": 4,
      "outputs": [
        {
          "output_type": "stream",
          "text": [
            "<class 'pandas.core.frame.DataFrame'>\n",
            "RangeIndex: 97874 entries, 0 to 97873\n",
            "Data columns (total 10 columns):\n",
            " #   Column                   Non-Null Count  Dtype \n",
            "---  ------                   --------------  ----- \n",
            " 0   ID                       97874 non-null  int64 \n",
            " 1   ID пользователя          97874 non-null  int64 \n",
            " 2   Класс крови              97874 non-null  object\n",
            " 3   Дата донации             97874 non-null  object\n",
            " 4   Дата добавления донации  97874 non-null  object\n",
            " 5   Тип донации              97874 non-null  object\n",
            " 6   Регион                   97874 non-null  object\n",
            " 7   Место стадчи             97874 non-null  object\n",
            " 8   Статус донации           97874 non-null  object\n",
            " 9   Есть справка             97874 non-null  object\n",
            "dtypes: int64(2), object(8)\n",
            "memory usage: 7.5+ MB\n"
          ],
          "name": "stdout"
        }
      ]
    },
    {
      "cell_type": "markdown",
      "metadata": {
        "id": "P-QaacF59wrN"
      },
      "source": [
        "В процессе чтения таблицы с данными о донациях, возникла проблема с парсингом даты - выяснилось, что некоторые даты указаны в формате, отличном от стандартного для данного датасета. Посмотрим на них более подробно. "
      ]
    },
    {
      "cell_type": "code",
      "metadata": {
        "colab": {
          "base_uri": "https://localhost:8080/"
        },
        "id": "m37piVRj5TA3",
        "outputId": "90730507-4802-4a39-c14b-a72cc50e0715"
      },
      "source": [
        "#\"стандарт\" для данного датасета - 10 символов в дате\n",
        "dates = set()\n",
        "\n",
        "#отберем даты, отличные от стандарта\n",
        "for date in donations_anon['Дата донации']:\n",
        "  if len(date) != 10:\n",
        "    dates.add(date)\n",
        "    print(date)"
      ],
      "execution_count": 5,
      "outputs": [
        {
          "output_type": "stream",
          "text": [
            "21.04.208\n",
            "27.04.201\n",
            "15.12.214\n",
            "24.05.207\n"
          ],
          "name": "stdout"
        }
      ]
    },
    {
      "cell_type": "code",
      "metadata": {
        "id": "5V-1RAAC_BJG"
      },
      "source": [
        "#уберем некорректные данные из датасета\n",
        "donations_anon = donations_anon[~donations_anon['Дата донации'].isin(dates)]"
      ],
      "execution_count": 6,
      "outputs": []
    },
    {
      "cell_type": "code",
      "metadata": {
        "id": "0gsOrUyPBR1j"
      },
      "source": [
        "#по столбцу \"Дата добавления донации\" проблем нет\n",
        "for date in donations_anon['Дата добавления донации']:\n",
        "  if len(date) != 10:\n",
        "    dates.add(date)\n",
        "    print(date)"
      ],
      "execution_count": 7,
      "outputs": []
    },
    {
      "cell_type": "markdown",
      "metadata": {
        "id": "O0BOc3RvFZIV"
      },
      "source": [
        "При попытке преобразовать дату донации из строкового формата в формат даты возвращается ошибка. По всей вероятности, помимо даты, в которой меньше символов, чем в стандартной дате, в некоторых строках указаны некорректные даты."
      ]
    },
    {
      "cell_type": "code",
      "metadata": {
        "id": "DL4-OmjMDhU_"
      },
      "source": [
        "date_list = set()\n",
        "\n",
        "for date in donations_anon['Дата донации']:\n",
        "  date_split = date.split('.')\n",
        "  for i in date_split:\n",
        "    if int(date_split[2]) > 2021 or int(date_split[2]) < 1980:\n",
        "      date_list.add(date)"
      ],
      "execution_count": 8,
      "outputs": []
    },
    {
      "cell_type": "code",
      "metadata": {
        "id": "Uj1FbaprEFqL"
      },
      "source": [
        "#снова уберем некорректные данные из датасета\n",
        "donations_anon = donations_anon[~donations_anon['Дата донации'].isin(date_list)]"
      ],
      "execution_count": 9,
      "outputs": []
    },
    {
      "cell_type": "code",
      "metadata": {
        "id": "GAB7KSC6GW1O"
      },
      "source": [
        "#преобразование дат из строкового типа в тип даты\n",
        "donations_anon['Дата донации'] = pd.to_datetime(donations_anon['Дата донации'], format='%d.%m.%Y')\n",
        "donations_anon['Дата добавления донации'] = pd.to_datetime(donations_anon['Дата добавления донации'], format='%d.%m.%Y')"
      ],
      "execution_count": 10,
      "outputs": []
    },
    {
      "cell_type": "code",
      "metadata": {
        "colab": {
          "base_uri": "https://localhost:8080/"
        },
        "id": "0uUTiamdTSM3",
        "outputId": "fd6419a3-5ad5-4d91-8628-d7fc24728cad"
      },
      "source": [
        "#посмотрим на дипазон дат добавления донации, так как с датой самой донации ранее мы уже обнаружили проблемы\n",
        "print('Минимальная дата добавления донации:', donations_anon['Дата добавления донации'].min())\n",
        "print('Максимальная дата добавления донации:',  donations_anon['Дата добавления донации'].max())"
      ],
      "execution_count": 11,
      "outputs": [
        {
          "output_type": "stream",
          "text": [
            "Минимальная дата добавления донации: 2020-11-18 00:00:00\n",
            "Максимальная дата добавления донации: 2021-06-02 00:00:00\n"
          ],
          "name": "stdout"
        }
      ]
    },
    {
      "cell_type": "code",
      "metadata": {
        "colab": {
          "base_uri": "https://localhost:8080/"
        },
        "id": "zrPciczPTtLX",
        "outputId": "0602f8f7-2cee-4d07-ef79-0bbd7180f51c"
      },
      "source": [
        "#методом value_counts смотрим уникальные значения во всех столбцах на предмет наличия каких-то некорректных категорийных переменных\n",
        "donations_anon['Регион'].value_counts()"
      ],
      "execution_count": 12,
      "outputs": [
        {
          "output_type": "execute_result",
          "data": {
            "text/plain": [
              "Не указано                                                          92109\n",
              "Россия, Москва                                                       1885\n",
              "Россия, Татарстан, Казань                                             514\n",
              "Россия, Санкт-Петербург                                               493\n",
              "Россия, Татарстан, Набережные Челны                                   163\n",
              "                                                                    ...  \n",
              "Россия, Самарская область, Сызрань                                      1\n",
              "Россия, Ханты-Мансийский Автономный округ - Югра АО, Нефтеюганск        1\n",
              "Россия, Московская область, Фрязино                                     1\n",
              "Казахстан, Кзыл-Ординская область, Байконур                             1\n",
              "Россия, Северная Осетия - Алания, Владикавказ                           1\n",
              "Name: Регион, Length: 267, dtype: int64"
            ]
          },
          "metadata": {
            "tags": []
          },
          "execution_count": 12
        }
      ]
    },
    {
      "cell_type": "code",
      "metadata": {
        "colab": {
          "base_uri": "https://localhost:8080/"
        },
        "id": "AyfZH4nKXxwZ",
        "outputId": "8e981545-9160-4d1c-92da-98b028986158"
      },
      "source": [
        "#проверим, нет ли в сете дублирующих строк\n",
        "print('Количество полных дубликатов в данных:', sum(donations_anon.duplicated()))"
      ],
      "execution_count": 13,
      "outputs": [
        {
          "output_type": "stream",
          "text": [
            "Количество полных дубликатов в данных: 0\n"
          ],
          "name": "stdout"
        }
      ]
    },
    {
      "cell_type": "markdown",
      "metadata": {
        "id": "6Acl6TtlaDFa"
      },
      "source": [
        "Контекст процесса подразумевает, что событие \"донация крови\" на временной плоскости лежит до его регистрации внутри системы DonorSearch. Исходя из этой посылки, мы делаем предположение, что дата добавления донации не может быть меньше, чем дата непосредственно донации. Если записи, не удовлетворяющие данному условию в датасете все таки будут обнаружены, то их нельзя признать достоверными и лучше удалить при небольшом количестве \"ошибок\"."
      ]
    },
    {
      "cell_type": "code",
      "metadata": {
        "colab": {
          "base_uri": "https://localhost:8080/",
          "height": 886
        },
        "id": "SEvGurtfZbJv",
        "outputId": "8fad9264-5ae5-4bfa-f68e-d40d95765e65"
      },
      "source": [
        "#выведем  некорректные записи\n",
        "donations_anon[donations_anon['Дата добавления донации'] < donations_anon['Дата донации']]"
      ],
      "execution_count": 14,
      "outputs": [
        {
          "output_type": "execute_result",
          "data": {
            "text/html": [
              "<div>\n",
              "<style scoped>\n",
              "    .dataframe tbody tr th:only-of-type {\n",
              "        vertical-align: middle;\n",
              "    }\n",
              "\n",
              "    .dataframe tbody tr th {\n",
              "        vertical-align: top;\n",
              "    }\n",
              "\n",
              "    .dataframe thead th {\n",
              "        text-align: right;\n",
              "    }\n",
              "</style>\n",
              "<table border=\"1\" class=\"dataframe\">\n",
              "  <thead>\n",
              "    <tr style=\"text-align: right;\">\n",
              "      <th></th>\n",
              "      <th>ID</th>\n",
              "      <th>ID пользователя</th>\n",
              "      <th>Класс крови</th>\n",
              "      <th>Дата донации</th>\n",
              "      <th>Дата добавления донации</th>\n",
              "      <th>Тип донации</th>\n",
              "      <th>Регион</th>\n",
              "      <th>Место стадчи</th>\n",
              "      <th>Статус донации</th>\n",
              "      <th>Есть справка</th>\n",
              "    </tr>\n",
              "  </thead>\n",
              "  <tbody>\n",
              "    <tr>\n",
              "      <th>271</th>\n",
              "      <td>97647</td>\n",
              "      <td>158384</td>\n",
              "      <td>Плазма</td>\n",
              "      <td>2021-05-21</td>\n",
              "      <td>2021-05-20</td>\n",
              "      <td>Безвозмездно</td>\n",
              "      <td>Россия, Тульская область, Тула</td>\n",
              "      <td>556</td>\n",
              "      <td>Без справки</td>\n",
              "      <td>Нет</td>\n",
              "    </tr>\n",
              "    <tr>\n",
              "      <th>770</th>\n",
              "      <td>97147</td>\n",
              "      <td>158054</td>\n",
              "      <td>Цельная кровь</td>\n",
              "      <td>2021-04-30</td>\n",
              "      <td>2021-04-29</td>\n",
              "      <td>Безвозмездно</td>\n",
              "      <td>Россия, Свердловская область, Екатеринбург</td>\n",
              "      <td>509</td>\n",
              "      <td>Без справки</td>\n",
              "      <td>Нет</td>\n",
              "    </tr>\n",
              "    <tr>\n",
              "      <th>929</th>\n",
              "      <td>96988</td>\n",
              "      <td>157962</td>\n",
              "      <td>Цельная кровь</td>\n",
              "      <td>2021-04-26</td>\n",
              "      <td>2021-04-25</td>\n",
              "      <td>Безвозмездно</td>\n",
              "      <td>Россия, Московская область, Одинцово</td>\n",
              "      <td>684</td>\n",
              "      <td>Принята</td>\n",
              "      <td>Да</td>\n",
              "    </tr>\n",
              "    <tr>\n",
              "      <th>1133</th>\n",
              "      <td>96784</td>\n",
              "      <td>157785</td>\n",
              "      <td>Цельная кровь</td>\n",
              "      <td>2021-04-21</td>\n",
              "      <td>2021-04-20</td>\n",
              "      <td>Безвозмездно</td>\n",
              "      <td>Не указано</td>\n",
              "      <td>567</td>\n",
              "      <td>Без справки</td>\n",
              "      <td>Нет</td>\n",
              "    </tr>\n",
              "    <tr>\n",
              "      <th>2261</th>\n",
              "      <td>95656</td>\n",
              "      <td>156669</td>\n",
              "      <td>Цельная кровь</td>\n",
              "      <td>2021-03-13</td>\n",
              "      <td>2021-03-12</td>\n",
              "      <td>Платно</td>\n",
              "      <td>Россия, Москва</td>\n",
              "      <td>1027</td>\n",
              "      <td>Удалена</td>\n",
              "      <td>Нет</td>\n",
              "    </tr>\n",
              "    <tr>\n",
              "      <th>2360</th>\n",
              "      <td>95557</td>\n",
              "      <td>156538</td>\n",
              "      <td>Тромбоциты</td>\n",
              "      <td>2021-03-10</td>\n",
              "      <td>2021-03-09</td>\n",
              "      <td>Платно</td>\n",
              "      <td>Россия, Москва</td>\n",
              "      <td>863</td>\n",
              "      <td>Без справки</td>\n",
              "      <td>Нет</td>\n",
              "    </tr>\n",
              "    <tr>\n",
              "      <th>2526</th>\n",
              "      <td>95391</td>\n",
              "      <td>156458</td>\n",
              "      <td>Цельная кровь</td>\n",
              "      <td>2021-03-05</td>\n",
              "      <td>2021-03-04</td>\n",
              "      <td>Безвозмездно</td>\n",
              "      <td>Россия, Санкт-Петербург</td>\n",
              "      <td>658</td>\n",
              "      <td>Без справки</td>\n",
              "      <td>Нет</td>\n",
              "    </tr>\n",
              "    <tr>\n",
              "      <th>2724</th>\n",
              "      <td>95193</td>\n",
              "      <td>2080</td>\n",
              "      <td>Цельная кровь</td>\n",
              "      <td>2021-02-25</td>\n",
              "      <td>2021-02-24</td>\n",
              "      <td>Безвозмездно</td>\n",
              "      <td>Россия, Камчатский край, Петропавловск-Камчатский</td>\n",
              "      <td>113</td>\n",
              "      <td>Принята</td>\n",
              "      <td>Да</td>\n",
              "    </tr>\n",
              "    <tr>\n",
              "      <th>2742</th>\n",
              "      <td>95175</td>\n",
              "      <td>155991</td>\n",
              "      <td>Эритроциты</td>\n",
              "      <td>2021-02-24</td>\n",
              "      <td>2021-02-23</td>\n",
              "      <td>Платно</td>\n",
              "      <td>Россия, Москва</td>\n",
              "      <td>649</td>\n",
              "      <td>Без справки</td>\n",
              "      <td>Нет</td>\n",
              "    </tr>\n",
              "    <tr>\n",
              "      <th>2757</th>\n",
              "      <td>95160</td>\n",
              "      <td>155991</td>\n",
              "      <td>Эритроциты</td>\n",
              "      <td>2021-02-22</td>\n",
              "      <td>2021-02-21</td>\n",
              "      <td>Платно</td>\n",
              "      <td>Россия, Москва</td>\n",
              "      <td>649</td>\n",
              "      <td>Удалена</td>\n",
              "      <td>Нет</td>\n",
              "    </tr>\n",
              "    <tr>\n",
              "      <th>2888</th>\n",
              "      <td>95029</td>\n",
              "      <td>155991</td>\n",
              "      <td>Цельная кровь</td>\n",
              "      <td>2021-02-19</td>\n",
              "      <td>2021-02-18</td>\n",
              "      <td>Платно</td>\n",
              "      <td>Россия, Москва</td>\n",
              "      <td>635</td>\n",
              "      <td>Удалена</td>\n",
              "      <td>Нет</td>\n",
              "    </tr>\n",
              "    <tr>\n",
              "      <th>3095</th>\n",
              "      <td>94822</td>\n",
              "      <td>155823</td>\n",
              "      <td>Цельная кровь</td>\n",
              "      <td>2021-02-12</td>\n",
              "      <td>2021-02-11</td>\n",
              "      <td>Безвозмездно</td>\n",
              "      <td>Россия, Новосибирская область, Новосибирск</td>\n",
              "      <td>290</td>\n",
              "      <td>Без справки</td>\n",
              "      <td>Нет</td>\n",
              "    </tr>\n",
              "    <tr>\n",
              "      <th>3154</th>\n",
              "      <td>94763</td>\n",
              "      <td>154728</td>\n",
              "      <td>Цельная кровь</td>\n",
              "      <td>2021-02-11</td>\n",
              "      <td>2021-02-10</td>\n",
              "      <td>Безвозмездно</td>\n",
              "      <td>Россия, Амурская область, Благовещенск</td>\n",
              "      <td>17</td>\n",
              "      <td>Принята</td>\n",
              "      <td>Да</td>\n",
              "    </tr>\n",
              "    <tr>\n",
              "      <th>3702</th>\n",
              "      <td>94215</td>\n",
              "      <td>60240</td>\n",
              "      <td>Цельная кровь</td>\n",
              "      <td>2021-01-25</td>\n",
              "      <td>2021-01-24</td>\n",
              "      <td>Безвозмездно</td>\n",
              "      <td>Россия, Костромская область, Кострома</td>\n",
              "      <td>134</td>\n",
              "      <td>Удалена</td>\n",
              "      <td>Да</td>\n",
              "    </tr>\n",
              "    <tr>\n",
              "      <th>4189</th>\n",
              "      <td>93728</td>\n",
              "      <td>154489</td>\n",
              "      <td>Плазма</td>\n",
              "      <td>2021-01-16</td>\n",
              "      <td>2021-01-15</td>\n",
              "      <td>Безвозмездно</td>\n",
              "      <td>Россия, Ростовская область, Белая Калитва</td>\n",
              "      <td>485</td>\n",
              "      <td>Удалена</td>\n",
              "      <td>Нет</td>\n",
              "    </tr>\n",
              "    <tr>\n",
              "      <th>4593</th>\n",
              "      <td>93324</td>\n",
              "      <td>154049</td>\n",
              "      <td>Цельная кровь</td>\n",
              "      <td>2020-12-27</td>\n",
              "      <td>2020-12-26</td>\n",
              "      <td>Платно</td>\n",
              "      <td>Россия, Саратовская область, Саратов</td>\n",
              "      <td>Выездная акция</td>\n",
              "      <td>Без справки</td>\n",
              "      <td>Нет</td>\n",
              "    </tr>\n",
              "    <tr>\n",
              "      <th>4607</th>\n",
              "      <td>93310</td>\n",
              "      <td>966</td>\n",
              "      <td>Тромбоциты</td>\n",
              "      <td>2020-12-26</td>\n",
              "      <td>2020-12-25</td>\n",
              "      <td>Безвозмездно</td>\n",
              "      <td>Россия, Кемеровская область, Кемерово</td>\n",
              "      <td>118</td>\n",
              "      <td>Принята</td>\n",
              "      <td>Да</td>\n",
              "    </tr>\n",
              "    <tr>\n",
              "      <th>4665</th>\n",
              "      <td>93252</td>\n",
              "      <td>153962</td>\n",
              "      <td>Цельная кровь</td>\n",
              "      <td>2020-12-24</td>\n",
              "      <td>2020-12-23</td>\n",
              "      <td>Безвозмездно</td>\n",
              "      <td>Россия, Ростовская область, Ростов-на-Дону</td>\n",
              "      <td>482</td>\n",
              "      <td>Без справки</td>\n",
              "      <td>Нет</td>\n",
              "    </tr>\n",
              "    <tr>\n",
              "      <th>5012</th>\n",
              "      <td>92905</td>\n",
              "      <td>153657</td>\n",
              "      <td>Цельная кровь</td>\n",
              "      <td>2020-12-13</td>\n",
              "      <td>2020-12-12</td>\n",
              "      <td>Безвозмездно</td>\n",
              "      <td>Россия, Амурская область, Благовещенск</td>\n",
              "      <td>17</td>\n",
              "      <td>Без справки</td>\n",
              "      <td>Нет</td>\n",
              "    </tr>\n",
              "    <tr>\n",
              "      <th>5035</th>\n",
              "      <td>92882</td>\n",
              "      <td>153636</td>\n",
              "      <td>Цельная кровь</td>\n",
              "      <td>2020-12-13</td>\n",
              "      <td>2020-12-12</td>\n",
              "      <td>Безвозмездно</td>\n",
              "      <td>Россия, Новосибирская область, Новосибирск</td>\n",
              "      <td>824</td>\n",
              "      <td>Без справки</td>\n",
              "      <td>Нет</td>\n",
              "    </tr>\n",
              "    <tr>\n",
              "      <th>5059</th>\n",
              "      <td>92858</td>\n",
              "      <td>153586</td>\n",
              "      <td>Цельная кровь</td>\n",
              "      <td>2020-12-12</td>\n",
              "      <td>2020-12-11</td>\n",
              "      <td>Безвозмездно</td>\n",
              "      <td>Россия, Московская область, Воскресенск</td>\n",
              "      <td>201</td>\n",
              "      <td>Без справки</td>\n",
              "      <td>Нет</td>\n",
              "    </tr>\n",
              "    <tr>\n",
              "      <th>5650</th>\n",
              "      <td>92267</td>\n",
              "      <td>150073</td>\n",
              "      <td>Цельная кровь</td>\n",
              "      <td>2020-11-25</td>\n",
              "      <td>2020-11-24</td>\n",
              "      <td>Безвозмездно</td>\n",
              "      <td>Молдова, Тирасполь</td>\n",
              "      <td>Выездная акция</td>\n",
              "      <td>Без справки</td>\n",
              "      <td>Нет</td>\n",
              "    </tr>\n",
              "    <tr>\n",
              "      <th>5742</th>\n",
              "      <td>92175</td>\n",
              "      <td>142337</td>\n",
              "      <td>Цельная кровь</td>\n",
              "      <td>2020-11-29</td>\n",
              "      <td>2020-11-23</td>\n",
              "      <td>Безвозмездно</td>\n",
              "      <td>Россия, Москва</td>\n",
              "      <td>Выездная акция</td>\n",
              "      <td>Удалена</td>\n",
              "      <td>Да</td>\n",
              "    </tr>\n",
              "    <tr>\n",
              "      <th>5964</th>\n",
              "      <td>91953</td>\n",
              "      <td>3223</td>\n",
              "      <td>Цельная кровь</td>\n",
              "      <td>2020-11-20</td>\n",
              "      <td>2020-11-18</td>\n",
              "      <td>Безвозмездно</td>\n",
              "      <td>Не указано</td>\n",
              "      <td>704</td>\n",
              "      <td>Без справки</td>\n",
              "      <td>Да</td>\n",
              "    </tr>\n",
              "    <tr>\n",
              "      <th>6003</th>\n",
              "      <td>91914</td>\n",
              "      <td>3222</td>\n",
              "      <td>Цельная кровь</td>\n",
              "      <td>2020-11-20</td>\n",
              "      <td>2020-11-18</td>\n",
              "      <td>Безвозмездно</td>\n",
              "      <td>Не указано</td>\n",
              "      <td>705</td>\n",
              "      <td>Удалена</td>\n",
              "      <td>Да</td>\n",
              "    </tr>\n",
              "    <tr>\n",
              "      <th>6036</th>\n",
              "      <td>91881</td>\n",
              "      <td>3277</td>\n",
              "      <td>Цельная кровь</td>\n",
              "      <td>2020-11-20</td>\n",
              "      <td>2020-11-18</td>\n",
              "      <td>Безвозмездно</td>\n",
              "      <td>Не указано</td>\n",
              "      <td>880</td>\n",
              "      <td>Без справки</td>\n",
              "      <td>Да</td>\n",
              "    </tr>\n",
              "    <tr>\n",
              "      <th>6230</th>\n",
              "      <td>91687</td>\n",
              "      <td>2817</td>\n",
              "      <td>Плазма</td>\n",
              "      <td>2020-11-26</td>\n",
              "      <td>2020-11-18</td>\n",
              "      <td>Безвозмездно</td>\n",
              "      <td>Не указано</td>\n",
              "      <td>563</td>\n",
              "      <td>Без справки</td>\n",
              "      <td>Да</td>\n",
              "    </tr>\n",
              "  </tbody>\n",
              "</table>\n",
              "</div>"
            ],
            "text/plain": [
              "         ID  ID пользователя  ... Статус донации Есть справка\n",
              "271   97647           158384  ...    Без справки          Нет\n",
              "770   97147           158054  ...    Без справки          Нет\n",
              "929   96988           157962  ...        Принята           Да\n",
              "1133  96784           157785  ...    Без справки          Нет\n",
              "2261  95656           156669  ...        Удалена          Нет\n",
              "2360  95557           156538  ...    Без справки          Нет\n",
              "2526  95391           156458  ...    Без справки          Нет\n",
              "2724  95193             2080  ...        Принята           Да\n",
              "2742  95175           155991  ...    Без справки          Нет\n",
              "2757  95160           155991  ...        Удалена          Нет\n",
              "2888  95029           155991  ...        Удалена          Нет\n",
              "3095  94822           155823  ...    Без справки          Нет\n",
              "3154  94763           154728  ...        Принята           Да\n",
              "3702  94215            60240  ...        Удалена           Да\n",
              "4189  93728           154489  ...        Удалена          Нет\n",
              "4593  93324           154049  ...    Без справки          Нет\n",
              "4607  93310              966  ...        Принята           Да\n",
              "4665  93252           153962  ...    Без справки          Нет\n",
              "5012  92905           153657  ...    Без справки          Нет\n",
              "5035  92882           153636  ...    Без справки          Нет\n",
              "5059  92858           153586  ...    Без справки          Нет\n",
              "5650  92267           150073  ...    Без справки          Нет\n",
              "5742  92175           142337  ...        Удалена           Да\n",
              "5964  91953             3223  ...    Без справки           Да\n",
              "6003  91914             3222  ...        Удалена           Да\n",
              "6036  91881             3277  ...    Без справки           Да\n",
              "6230  91687             2817  ...    Без справки           Да\n",
              "\n",
              "[27 rows x 10 columns]"
            ]
          },
          "metadata": {
            "tags": []
          },
          "execution_count": 14
        }
      ]
    },
    {
      "cell_type": "code",
      "metadata": {
        "colab": {
          "base_uri": "https://localhost:8080/"
        },
        "id": "egbm9-w5cULt",
        "outputId": "45a0874f-9777-42e5-afb4-2cb2a263c561"
      },
      "source": [
        "print('Количество записей с некорректным расположением процедуры донации и ее регистрации на временной оси:', len(donations_anon[donations_anon['Дата добавления донации'] < donations_anon['Дата донации']]))"
      ],
      "execution_count": 15,
      "outputs": [
        {
          "output_type": "stream",
          "text": [
            "Количество записей с некорректным расположением процедуры донации и ее регистрации на временной оси: 27\n"
          ],
          "name": "stdout"
        }
      ]
    },
    {
      "cell_type": "code",
      "metadata": {
        "id": "RDPUQr9eciYK"
      },
      "source": [
        "#27 записей для целей исследования определяющего значения не имеют, поэтому уберем эти записи из датасета\n",
        "donations_anon = donations_anon[donations_anon['Дата добавления донации'] >= donations_anon['Дата донации']]"
      ],
      "execution_count": 16,
      "outputs": []
    },
    {
      "cell_type": "markdown",
      "metadata": {
        "id": "e-ozUiCiYzjJ"
      },
      "source": [
        "Мы установили, что наибольшая потребность в предобработке в столбце `Регион`, так как в нем через запятую содержатся топонимы, характеризующие место процедуры. Для возможного последующего анализа географии мы разделим записи в столбце на два столбца: страна и город проведения процедуры. \n",
        "\n",
        "Первичный визуальный анализ показывает, что до первой запятой всегда следует название страны, а после последней запятой указано наименование города, поэтому разделим топонимы, исходя из этого принципа."
      ]
    },
    {
      "cell_type": "code",
      "metadata": {
        "id": "ca9s_6WpfYnF"
      },
      "source": [
        "#заранее сформируем в датафрейме пустые столбцы, куда запишем наименование страны и города донации\n",
        "donations_anon['country'] = np.nan\n",
        "donations_anon['city'] = np.nan"
      ],
      "execution_count": 17,
      "outputs": []
    },
    {
      "cell_type": "code",
      "metadata": {
        "id": "WEIEyleMdT2A"
      },
      "source": [
        "#при помощи функции мы разберем локацию на составляющик\n",
        "def topo_parser(row):\n",
        "  if row['Регион'] != 'Не указано':\n",
        "    parsed_topo = row['Регион'].split(',')\n",
        "    row['country'] = parsed_topo[0]\n",
        "    row['city'] = parsed_topo[-1]\n",
        "  else:\n",
        "    row['country'] = row['Регион']\n",
        "    row['city'] = row['Регион']\n",
        "  return row"
      ],
      "execution_count": 18,
      "outputs": []
    },
    {
      "cell_type": "code",
      "metadata": {
        "id": "_eCndI7OeJt9"
      },
      "source": [
        "donations_anon = donations_anon.apply(topo_parser, axis=1)"
      ],
      "execution_count": 19,
      "outputs": []
    },
    {
      "cell_type": "code",
      "metadata": {
        "colab": {
          "base_uri": "https://localhost:8080/",
          "height": 272
        },
        "id": "aZ69apK5Yn1c",
        "outputId": "133415e5-fe58-4efb-c2c1-a25bc6833692"
      },
      "source": [
        "donations_anon.head()"
      ],
      "execution_count": 20,
      "outputs": [
        {
          "output_type": "execute_result",
          "data": {
            "text/html": [
              "<div>\n",
              "<style scoped>\n",
              "    .dataframe tbody tr th:only-of-type {\n",
              "        vertical-align: middle;\n",
              "    }\n",
              "\n",
              "    .dataframe tbody tr th {\n",
              "        vertical-align: top;\n",
              "    }\n",
              "\n",
              "    .dataframe thead th {\n",
              "        text-align: right;\n",
              "    }\n",
              "</style>\n",
              "<table border=\"1\" class=\"dataframe\">\n",
              "  <thead>\n",
              "    <tr style=\"text-align: right;\">\n",
              "      <th></th>\n",
              "      <th>ID</th>\n",
              "      <th>ID пользователя</th>\n",
              "      <th>Класс крови</th>\n",
              "      <th>Дата донации</th>\n",
              "      <th>Дата добавления донации</th>\n",
              "      <th>Тип донации</th>\n",
              "      <th>Регион</th>\n",
              "      <th>Место стадчи</th>\n",
              "      <th>Статус донации</th>\n",
              "      <th>Есть справка</th>\n",
              "      <th>country</th>\n",
              "      <th>city</th>\n",
              "    </tr>\n",
              "  </thead>\n",
              "  <tbody>\n",
              "    <tr>\n",
              "      <th>0</th>\n",
              "      <td>97920</td>\n",
              "      <td>151894</td>\n",
              "      <td>Плазма</td>\n",
              "      <td>2021-06-02</td>\n",
              "      <td>2021-06-02</td>\n",
              "      <td>Безвозмездно</td>\n",
              "      <td>Россия, Москва</td>\n",
              "      <td>647</td>\n",
              "      <td>На модерации</td>\n",
              "      <td>Да</td>\n",
              "      <td>Россия</td>\n",
              "      <td>Москва</td>\n",
              "    </tr>\n",
              "    <tr>\n",
              "      <th>1</th>\n",
              "      <td>97919</td>\n",
              "      <td>156916</td>\n",
              "      <td>Тромбоциты</td>\n",
              "      <td>2021-06-02</td>\n",
              "      <td>2021-06-02</td>\n",
              "      <td>Безвозмездно</td>\n",
              "      <td>Россия, Москва</td>\n",
              "      <td>633</td>\n",
              "      <td>На модерации</td>\n",
              "      <td>Да</td>\n",
              "      <td>Россия</td>\n",
              "      <td>Москва</td>\n",
              "    </tr>\n",
              "    <tr>\n",
              "      <th>2</th>\n",
              "      <td>97918</td>\n",
              "      <td>149413</td>\n",
              "      <td>Цельная кровь</td>\n",
              "      <td>2021-06-01</td>\n",
              "      <td>2021-06-02</td>\n",
              "      <td>Безвозмездно</td>\n",
              "      <td>Россия, Приморский край, Владивосток</td>\n",
              "      <td>325</td>\n",
              "      <td>Принята</td>\n",
              "      <td>Да</td>\n",
              "      <td>Россия</td>\n",
              "      <td>Владивосток</td>\n",
              "    </tr>\n",
              "    <tr>\n",
              "      <th>3</th>\n",
              "      <td>97917</td>\n",
              "      <td>155027</td>\n",
              "      <td>Цельная кровь</td>\n",
              "      <td>2021-06-02</td>\n",
              "      <td>2021-06-02</td>\n",
              "      <td>Безвозмездно</td>\n",
              "      <td>Россия, Саратовская область, Саратов</td>\n",
              "      <td>500</td>\n",
              "      <td>Принята</td>\n",
              "      <td>Да</td>\n",
              "      <td>Россия</td>\n",
              "      <td>Саратов</td>\n",
              "    </tr>\n",
              "    <tr>\n",
              "      <th>4</th>\n",
              "      <td>97916</td>\n",
              "      <td>151094</td>\n",
              "      <td>Цельная кровь</td>\n",
              "      <td>2021-04-23</td>\n",
              "      <td>2021-06-02</td>\n",
              "      <td>Безвозмездно</td>\n",
              "      <td>Россия, Свердловская область, Екатеринбург</td>\n",
              "      <td>509</td>\n",
              "      <td>Принята</td>\n",
              "      <td>Да</td>\n",
              "      <td>Россия</td>\n",
              "      <td>Екатеринбург</td>\n",
              "    </tr>\n",
              "  </tbody>\n",
              "</table>\n",
              "</div>"
            ],
            "text/plain": [
              "      ID  ID пользователя    Класс крови  ... Есть справка country           city\n",
              "0  97920           151894         Плазма  ...           Да  Россия         Москва\n",
              "1  97919           156916     Тромбоциты  ...           Да  Россия         Москва\n",
              "2  97918           149413  Цельная кровь  ...           Да  Россия    Владивосток\n",
              "3  97917           155027  Цельная кровь  ...           Да  Россия        Саратов\n",
              "4  97916           151094  Цельная кровь  ...           Да  Россия   Екатеринбург\n",
              "\n",
              "[5 rows x 12 columns]"
            ]
          },
          "metadata": {
            "tags": []
          },
          "execution_count": 20
        }
      ]
    },
    {
      "cell_type": "markdown",
      "metadata": {
        "id": "EeuFJQGngues"
      },
      "source": [
        "Функция отработала корректно - теперь оценим пропуски, то есть у какого количества наблюдений нет страны и города проведения донации."
      ]
    },
    {
      "cell_type": "code",
      "metadata": {
        "colab": {
          "base_uri": "https://localhost:8080/"
        },
        "id": "OWKlO1h6Z8x_",
        "outputId": "8fb3377a-3035-4644-fb15-7dd59210883c"
      },
      "source": [
        "donations_anon['country'].value_counts()"
      ],
      "execution_count": 21,
      "outputs": [
        {
          "output_type": "execute_result",
          "data": {
            "text/plain": [
              "Не указано    92104\n",
              "Россия         5565\n",
              "Украина          70\n",
              "Беларусь         25\n",
              "Казахстан        24\n",
              "Молдова           4\n",
              "Кыргызстан        4\n",
              "Name: country, dtype: int64"
            ]
          },
          "metadata": {
            "tags": []
          },
          "execution_count": 21
        }
      ]
    },
    {
      "cell_type": "markdown",
      "metadata": {
        "id": "DcIbI18xg-O_"
      },
      "source": [
        "У большей части записей изначально не определен регион, но в нашем распоряжении идентификатор места сдачи. Попробуем на основании имеющихся данных установить, где расположена каждая из станций."
      ]
    },
    {
      "cell_type": "code",
      "metadata": {
        "colab": {
          "base_uri": "https://localhost:8080/"
        },
        "id": "R2ZOy512g7nk",
        "outputId": "420e8eae-e5c8-400e-9884-33900c90ca71"
      },
      "source": [
        "print('Количество уникальных идентификаторов места сдачи в полном датасете:', len(donations_anon['Место стадчи'].unique()))\n",
        "print('Количество уникальных идентификаторов места сдачи в датасете с указанным регионом:', len(donations_anon[donations_anon['Регион'] != 'Не указано']['Место стадчи'].unique()))"
      ],
      "execution_count": 22,
      "outputs": [
        {
          "output_type": "stream",
          "text": [
            "Количество уникальных идентификаторов места сдачи в полном датасете: 776\n",
            "Количество уникальных идентификаторов места сдачи в датасете с указанным регионом: 338\n"
          ],
          "name": "stdout"
        }
      ]
    },
    {
      "cell_type": "code",
      "metadata": {
        "colab": {
          "base_uri": "https://localhost:8080/",
          "height": 419
        },
        "id": "auBRWzLKhUyW",
        "outputId": "709f39b5-56df-4e36-aaff-6be931acbd9a"
      },
      "source": [
        "#заранее убедимся, что для каждого идентификатора доступен только один вариант страны/города\n",
        "places_topo = donations_anon[donations_anon['Регион'] != 'Не указано'].groupby('Место стадчи', as_index=False).agg({'country': 'nunique', 'city': 'nunique'}).sort_values('city', ascending=False)\n",
        "places_topo = places_topo.rename(columns={'Место стадчи': 'place'})\n",
        "places_topo"
      ],
      "execution_count": 23,
      "outputs": [
        {
          "output_type": "execute_result",
          "data": {
            "text/html": [
              "<div>\n",
              "<style scoped>\n",
              "    .dataframe tbody tr th:only-of-type {\n",
              "        vertical-align: middle;\n",
              "    }\n",
              "\n",
              "    .dataframe tbody tr th {\n",
              "        vertical-align: top;\n",
              "    }\n",
              "\n",
              "    .dataframe thead th {\n",
              "        text-align: right;\n",
              "    }\n",
              "</style>\n",
              "<table border=\"1\" class=\"dataframe\">\n",
              "  <thead>\n",
              "    <tr style=\"text-align: right;\">\n",
              "      <th></th>\n",
              "      <th>place</th>\n",
              "      <th>country</th>\n",
              "      <th>city</th>\n",
              "    </tr>\n",
              "  </thead>\n",
              "  <tbody>\n",
              "    <tr>\n",
              "      <th>337</th>\n",
              "      <td>Выездная акция</td>\n",
              "      <td>3</td>\n",
              "      <td>74</td>\n",
              "    </tr>\n",
              "    <tr>\n",
              "      <th>229</th>\n",
              "      <td>656</td>\n",
              "      <td>1</td>\n",
              "      <td>2</td>\n",
              "    </tr>\n",
              "    <tr>\n",
              "      <th>223</th>\n",
              "      <td>650</td>\n",
              "      <td>1</td>\n",
              "      <td>2</td>\n",
              "    </tr>\n",
              "    <tr>\n",
              "      <th>222</th>\n",
              "      <td>649</td>\n",
              "      <td>1</td>\n",
              "      <td>1</td>\n",
              "    </tr>\n",
              "    <tr>\n",
              "      <th>230</th>\n",
              "      <td>657</td>\n",
              "      <td>1</td>\n",
              "      <td>1</td>\n",
              "    </tr>\n",
              "    <tr>\n",
              "      <th>...</th>\n",
              "      <td>...</td>\n",
              "      <td>...</td>\n",
              "      <td>...</td>\n",
              "    </tr>\n",
              "    <tr>\n",
              "      <th>111</th>\n",
              "      <td>387</td>\n",
              "      <td>1</td>\n",
              "      <td>1</td>\n",
              "    </tr>\n",
              "    <tr>\n",
              "      <th>110</th>\n",
              "      <td>386</td>\n",
              "      <td>1</td>\n",
              "      <td>1</td>\n",
              "    </tr>\n",
              "    <tr>\n",
              "      <th>109</th>\n",
              "      <td>382</td>\n",
              "      <td>1</td>\n",
              "      <td>1</td>\n",
              "    </tr>\n",
              "    <tr>\n",
              "      <th>108</th>\n",
              "      <td>378</td>\n",
              "      <td>1</td>\n",
              "      <td>1</td>\n",
              "    </tr>\n",
              "    <tr>\n",
              "      <th>169</th>\n",
              "      <td>54</td>\n",
              "      <td>1</td>\n",
              "      <td>1</td>\n",
              "    </tr>\n",
              "  </tbody>\n",
              "</table>\n",
              "<p>338 rows × 3 columns</p>\n",
              "</div>"
            ],
            "text/plain": [
              "              place  country  city\n",
              "337  Выездная акция        3    74\n",
              "229             656        1     2\n",
              "223             650        1     2\n",
              "222             649        1     1\n",
              "230             657        1     1\n",
              "..              ...      ...   ...\n",
              "111             387        1     1\n",
              "110             386        1     1\n",
              "109             382        1     1\n",
              "108             378        1     1\n",
              "169              54        1     1\n",
              "\n",
              "[338 rows x 3 columns]"
            ]
          },
          "metadata": {
            "tags": []
          },
          "execution_count": 23
        }
      ]
    },
    {
      "cell_type": "markdown",
      "metadata": {
        "id": "oaIGyUhGi30f"
      },
      "source": [
        "Во-первых, одним из \"мест\" указана некая \"Выездная акция\". По всей видимости, такой формат и не должен иметь никакой конкретной локации.\n",
        "Во-вторых, в данных действительно обнаружились разночтения с географической локацией для некоторых мест сдачи. "
      ]
    },
    {
      "cell_type": "code",
      "metadata": {
        "colab": {
          "base_uri": "https://localhost:8080/",
          "height": 111
        },
        "id": "GCrRziVCiLrM",
        "outputId": "d8c3df5d-9c79-40f5-a30f-a808265333f9"
      },
      "source": [
        "places = places_topo[(places_topo['place'] != 'Выездная акция') & (places_topo['city'] > 1)]\n",
        "places"
      ],
      "execution_count": 24,
      "outputs": [
        {
          "output_type": "execute_result",
          "data": {
            "text/html": [
              "<div>\n",
              "<style scoped>\n",
              "    .dataframe tbody tr th:only-of-type {\n",
              "        vertical-align: middle;\n",
              "    }\n",
              "\n",
              "    .dataframe tbody tr th {\n",
              "        vertical-align: top;\n",
              "    }\n",
              "\n",
              "    .dataframe thead th {\n",
              "        text-align: right;\n",
              "    }\n",
              "</style>\n",
              "<table border=\"1\" class=\"dataframe\">\n",
              "  <thead>\n",
              "    <tr style=\"text-align: right;\">\n",
              "      <th></th>\n",
              "      <th>place</th>\n",
              "      <th>country</th>\n",
              "      <th>city</th>\n",
              "    </tr>\n",
              "  </thead>\n",
              "  <tbody>\n",
              "    <tr>\n",
              "      <th>229</th>\n",
              "      <td>656</td>\n",
              "      <td>1</td>\n",
              "      <td>2</td>\n",
              "    </tr>\n",
              "    <tr>\n",
              "      <th>223</th>\n",
              "      <td>650</td>\n",
              "      <td>1</td>\n",
              "      <td>2</td>\n",
              "    </tr>\n",
              "  </tbody>\n",
              "</table>\n",
              "</div>"
            ],
            "text/plain": [
              "    place  country  city\n",
              "229   656        1     2\n",
              "223   650        1     2"
            ]
          },
          "metadata": {
            "tags": []
          },
          "execution_count": 24
        }
      ]
    },
    {
      "cell_type": "code",
      "metadata": {
        "colab": {
          "base_uri": "https://localhost:8080/"
        },
        "id": "pnjjUeFEkcSb",
        "outputId": "80f3f47b-63f6-46cf-b73b-9f3620140dd5"
      },
      "source": [
        "donations_anon[donations_anon['Место стадчи'] == '650']['city'].value_counts()"
      ],
      "execution_count": 25,
      "outputs": [
        {
          "output_type": "execute_result",
          "data": {
            "text/plain": [
              "Не указано     121\n",
              " Зеленоград      9\n",
              " Москва          1\n",
              "Name: city, dtype: int64"
            ]
          },
          "metadata": {
            "tags": []
          },
          "execution_count": 25
        }
      ]
    },
    {
      "cell_type": "code",
      "metadata": {
        "colab": {
          "base_uri": "https://localhost:8080/"
        },
        "id": "BNt76mP3mS-Z",
        "outputId": "7e91eeb7-d93a-43b8-e6a4-474480d88f53"
      },
      "source": [
        "donations_anon[donations_anon['Место стадчи'] == '656']['city'].value_counts()"
      ],
      "execution_count": 26,
      "outputs": [
        {
          "output_type": "execute_result",
          "data": {
            "text/plain": [
              "Не указано      1637\n",
              " Москва          110\n",
              " Краснокамск       1\n",
              "Name: city, dtype: int64"
            ]
          },
          "metadata": {
            "tags": []
          },
          "execution_count": 26
        }
      ]
    },
    {
      "cell_type": "code",
      "metadata": {
        "colab": {
          "base_uri": "https://localhost:8080/",
          "height": 272
        },
        "id": "2d097a4SlRfn",
        "outputId": "3fcb655e-8627-471a-81c8-88fdaf8ed176"
      },
      "source": [
        "donations_anon.head()"
      ],
      "execution_count": 27,
      "outputs": [
        {
          "output_type": "execute_result",
          "data": {
            "text/html": [
              "<div>\n",
              "<style scoped>\n",
              "    .dataframe tbody tr th:only-of-type {\n",
              "        vertical-align: middle;\n",
              "    }\n",
              "\n",
              "    .dataframe tbody tr th {\n",
              "        vertical-align: top;\n",
              "    }\n",
              "\n",
              "    .dataframe thead th {\n",
              "        text-align: right;\n",
              "    }\n",
              "</style>\n",
              "<table border=\"1\" class=\"dataframe\">\n",
              "  <thead>\n",
              "    <tr style=\"text-align: right;\">\n",
              "      <th></th>\n",
              "      <th>ID</th>\n",
              "      <th>ID пользователя</th>\n",
              "      <th>Класс крови</th>\n",
              "      <th>Дата донации</th>\n",
              "      <th>Дата добавления донации</th>\n",
              "      <th>Тип донации</th>\n",
              "      <th>Регион</th>\n",
              "      <th>Место стадчи</th>\n",
              "      <th>Статус донации</th>\n",
              "      <th>Есть справка</th>\n",
              "      <th>country</th>\n",
              "      <th>city</th>\n",
              "    </tr>\n",
              "  </thead>\n",
              "  <tbody>\n",
              "    <tr>\n",
              "      <th>0</th>\n",
              "      <td>97920</td>\n",
              "      <td>151894</td>\n",
              "      <td>Плазма</td>\n",
              "      <td>2021-06-02</td>\n",
              "      <td>2021-06-02</td>\n",
              "      <td>Безвозмездно</td>\n",
              "      <td>Россия, Москва</td>\n",
              "      <td>647</td>\n",
              "      <td>На модерации</td>\n",
              "      <td>Да</td>\n",
              "      <td>Россия</td>\n",
              "      <td>Москва</td>\n",
              "    </tr>\n",
              "    <tr>\n",
              "      <th>1</th>\n",
              "      <td>97919</td>\n",
              "      <td>156916</td>\n",
              "      <td>Тромбоциты</td>\n",
              "      <td>2021-06-02</td>\n",
              "      <td>2021-06-02</td>\n",
              "      <td>Безвозмездно</td>\n",
              "      <td>Россия, Москва</td>\n",
              "      <td>633</td>\n",
              "      <td>На модерации</td>\n",
              "      <td>Да</td>\n",
              "      <td>Россия</td>\n",
              "      <td>Москва</td>\n",
              "    </tr>\n",
              "    <tr>\n",
              "      <th>2</th>\n",
              "      <td>97918</td>\n",
              "      <td>149413</td>\n",
              "      <td>Цельная кровь</td>\n",
              "      <td>2021-06-01</td>\n",
              "      <td>2021-06-02</td>\n",
              "      <td>Безвозмездно</td>\n",
              "      <td>Россия, Приморский край, Владивосток</td>\n",
              "      <td>325</td>\n",
              "      <td>Принята</td>\n",
              "      <td>Да</td>\n",
              "      <td>Россия</td>\n",
              "      <td>Владивосток</td>\n",
              "    </tr>\n",
              "    <tr>\n",
              "      <th>3</th>\n",
              "      <td>97917</td>\n",
              "      <td>155027</td>\n",
              "      <td>Цельная кровь</td>\n",
              "      <td>2021-06-02</td>\n",
              "      <td>2021-06-02</td>\n",
              "      <td>Безвозмездно</td>\n",
              "      <td>Россия, Саратовская область, Саратов</td>\n",
              "      <td>500</td>\n",
              "      <td>Принята</td>\n",
              "      <td>Да</td>\n",
              "      <td>Россия</td>\n",
              "      <td>Саратов</td>\n",
              "    </tr>\n",
              "    <tr>\n",
              "      <th>4</th>\n",
              "      <td>97916</td>\n",
              "      <td>151094</td>\n",
              "      <td>Цельная кровь</td>\n",
              "      <td>2021-04-23</td>\n",
              "      <td>2021-06-02</td>\n",
              "      <td>Безвозмездно</td>\n",
              "      <td>Россия, Свердловская область, Екатеринбург</td>\n",
              "      <td>509</td>\n",
              "      <td>Принята</td>\n",
              "      <td>Да</td>\n",
              "      <td>Россия</td>\n",
              "      <td>Екатеринбург</td>\n",
              "    </tr>\n",
              "  </tbody>\n",
              "</table>\n",
              "</div>"
            ],
            "text/plain": [
              "      ID  ID пользователя    Класс крови  ... Есть справка country           city\n",
              "0  97920           151894         Плазма  ...           Да  Россия         Москва\n",
              "1  97919           156916     Тромбоциты  ...           Да  Россия         Москва\n",
              "2  97918           149413  Цельная кровь  ...           Да  Россия    Владивосток\n",
              "3  97917           155027  Цельная кровь  ...           Да  Россия        Саратов\n",
              "4  97916           151094  Цельная кровь  ...           Да  Россия   Екатеринбург\n",
              "\n",
              "[5 rows x 12 columns]"
            ]
          },
          "metadata": {
            "tags": []
          },
          "execution_count": 27
        }
      ]
    },
    {
      "cell_type": "code",
      "metadata": {
        "colab": {
          "base_uri": "https://localhost:8080/",
          "height": 419
        },
        "id": "VcY__mAnlXPG",
        "outputId": "7f8822d6-62f9-4fc5-c790-11643fb142e1"
      },
      "source": [
        "#снова формируем датафрейм с локациями, отсеяв двойственные значения функцие max\n",
        "places_topo = donations_anon[donations_anon['Регион'] != 'Не указано'].groupby('Место стадчи', as_index=False).agg({'country': 'max', 'city': 'max'})\n",
        "places_topo = places_topo.rename(columns={'Место стадчи': 'place'})\n",
        "places_topo"
      ],
      "execution_count": 28,
      "outputs": [
        {
          "output_type": "execute_result",
          "data": {
            "text/html": [
              "<div>\n",
              "<style scoped>\n",
              "    .dataframe tbody tr th:only-of-type {\n",
              "        vertical-align: middle;\n",
              "    }\n",
              "\n",
              "    .dataframe tbody tr th {\n",
              "        vertical-align: top;\n",
              "    }\n",
              "\n",
              "    .dataframe thead th {\n",
              "        text-align: right;\n",
              "    }\n",
              "</style>\n",
              "<table border=\"1\" class=\"dataframe\">\n",
              "  <thead>\n",
              "    <tr style=\"text-align: right;\">\n",
              "      <th></th>\n",
              "      <th>place</th>\n",
              "      <th>country</th>\n",
              "      <th>city</th>\n",
              "    </tr>\n",
              "  </thead>\n",
              "  <tbody>\n",
              "    <tr>\n",
              "      <th>0</th>\n",
              "      <td>1</td>\n",
              "      <td>Россия</td>\n",
              "      <td>Барнаул</td>\n",
              "    </tr>\n",
              "    <tr>\n",
              "      <th>1</th>\n",
              "      <td>100</td>\n",
              "      <td>Россия</td>\n",
              "      <td>Иркутск</td>\n",
              "    </tr>\n",
              "    <tr>\n",
              "      <th>2</th>\n",
              "      <td>101</td>\n",
              "      <td>Россия</td>\n",
              "      <td>Братск</td>\n",
              "    </tr>\n",
              "    <tr>\n",
              "      <th>3</th>\n",
              "      <td>1017</td>\n",
              "      <td>Россия</td>\n",
              "      <td>Чебоксары</td>\n",
              "    </tr>\n",
              "    <tr>\n",
              "      <th>4</th>\n",
              "      <td>102</td>\n",
              "      <td>Россия</td>\n",
              "      <td>Усолье-Сибирское</td>\n",
              "    </tr>\n",
              "    <tr>\n",
              "      <th>...</th>\n",
              "      <td>...</td>\n",
              "      <td>...</td>\n",
              "      <td>...</td>\n",
              "    </tr>\n",
              "    <tr>\n",
              "      <th>333</th>\n",
              "      <td>987</td>\n",
              "      <td>Россия</td>\n",
              "      <td>Находка</td>\n",
              "    </tr>\n",
              "    <tr>\n",
              "      <th>334</th>\n",
              "      <td>99</td>\n",
              "      <td>Россия</td>\n",
              "      <td>Южа</td>\n",
              "    </tr>\n",
              "    <tr>\n",
              "      <th>335</th>\n",
              "      <td>990</td>\n",
              "      <td>Россия</td>\n",
              "      <td>Кирово-Чепецк</td>\n",
              "    </tr>\n",
              "    <tr>\n",
              "      <th>336</th>\n",
              "      <td>992</td>\n",
              "      <td>Россия</td>\n",
              "      <td>Северск</td>\n",
              "    </tr>\n",
              "    <tr>\n",
              "      <th>337</th>\n",
              "      <td>Выездная акция</td>\n",
              "      <td>Украина</td>\n",
              "      <td>Ярославль</td>\n",
              "    </tr>\n",
              "  </tbody>\n",
              "</table>\n",
              "<p>338 rows × 3 columns</p>\n",
              "</div>"
            ],
            "text/plain": [
              "              place  country               city\n",
              "0                 1   Россия            Барнаул\n",
              "1               100   Россия            Иркутск\n",
              "2               101   Россия             Братск\n",
              "3              1017   Россия          Чебоксары\n",
              "4               102   Россия   Усолье-Сибирское\n",
              "..              ...      ...                ...\n",
              "333             987   Россия            Находка\n",
              "334              99   Россия                Южа\n",
              "335             990   Россия      Кирово-Чепецк\n",
              "336             992   Россия            Северск\n",
              "337  Выездная акция  Украина          Ярославль\n",
              "\n",
              "[338 rows x 3 columns]"
            ]
          },
          "metadata": {
            "tags": []
          },
          "execution_count": 28
        }
      ]
    },
    {
      "cell_type": "code",
      "metadata": {
        "id": "O3xCgrA9qj3m"
      },
      "source": [
        "#откинем столбцы со страной и городом из основного датафрейма, так как они нам уже не нужны\n",
        "donations_anon = donations_anon.drop(['country', 'city'], axis=1)"
      ],
      "execution_count": 29,
      "outputs": []
    },
    {
      "cell_type": "code",
      "metadata": {
        "colab": {
          "base_uri": "https://localhost:8080/"
        },
        "id": "N5qGW58BrlHa",
        "outputId": "ea42a79e-9316-4880-f43d-50b3c21d3bb2"
      },
      "source": [
        "donations_anon.info()"
      ],
      "execution_count": 30,
      "outputs": [
        {
          "output_type": "stream",
          "text": [
            "<class 'pandas.core.frame.DataFrame'>\n",
            "Int64Index: 97796 entries, 0 to 97873\n",
            "Data columns (total 10 columns):\n",
            " #   Column                   Non-Null Count  Dtype         \n",
            "---  ------                   --------------  -----         \n",
            " 0   ID                       97796 non-null  int64         \n",
            " 1   ID пользователя          97796 non-null  int64         \n",
            " 2   Класс крови              97796 non-null  object        \n",
            " 3   Дата донации             97796 non-null  datetime64[ns]\n",
            " 4   Дата добавления донации  97796 non-null  datetime64[ns]\n",
            " 5   Тип донации              97796 non-null  object        \n",
            " 6   Регион                   97796 non-null  object        \n",
            " 7   Место стадчи             97796 non-null  object        \n",
            " 8   Статус донации           97796 non-null  object        \n",
            " 9   Есть справка             97796 non-null  object        \n",
            "dtypes: datetime64[ns](2), int64(2), object(6)\n",
            "memory usage: 8.2+ MB\n"
          ],
          "name": "stdout"
        }
      ]
    },
    {
      "cell_type": "code",
      "metadata": {
        "id": "_iXRjg63rLW6"
      },
      "source": [
        "#при помощи левого соединения добавим данные из таблицы с локациями станций к основному фрейму\n",
        "donations_anon = donations_anon.merge(places_topo, left_on='Место стадчи', right_on='place', how='left')\n",
        "donations_anon = donations_anon.drop(['place'], axis=1)"
      ],
      "execution_count": 31,
      "outputs": []
    },
    {
      "cell_type": "code",
      "metadata": {
        "colab": {
          "base_uri": "https://localhost:8080/"
        },
        "id": "sZ4zEQ82s7lr",
        "outputId": "4fb445c8-9646-4d09-fe0b-2bc6f1e1889c"
      },
      "source": [
        "donations_anon.info()"
      ],
      "execution_count": 32,
      "outputs": [
        {
          "output_type": "stream",
          "text": [
            "<class 'pandas.core.frame.DataFrame'>\n",
            "Int64Index: 97796 entries, 0 to 97795\n",
            "Data columns (total 12 columns):\n",
            " #   Column                   Non-Null Count  Dtype         \n",
            "---  ------                   --------------  -----         \n",
            " 0   ID                       97796 non-null  int64         \n",
            " 1   ID пользователя          97796 non-null  int64         \n",
            " 2   Класс крови              97796 non-null  object        \n",
            " 3   Дата донации             97796 non-null  datetime64[ns]\n",
            " 4   Дата добавления донации  97796 non-null  datetime64[ns]\n",
            " 5   Тип донации              97796 non-null  object        \n",
            " 6   Регион                   97796 non-null  object        \n",
            " 7   Место стадчи             97796 non-null  object        \n",
            " 8   Статус донации           97796 non-null  object        \n",
            " 9   Есть справка             97796 non-null  object        \n",
            " 10  country                  89228 non-null  object        \n",
            " 11  city                     89228 non-null  object        \n",
            "dtypes: datetime64[ns](2), int64(2), object(8)\n",
            "memory usage: 9.7+ MB\n"
          ],
          "name": "stdout"
        }
      ]
    },
    {
      "cell_type": "code",
      "metadata": {
        "id": "lLyjLvqJrM3e"
      },
      "source": [
        "donations_anon['country'] = donations_anon['country'].fillna('Не указано')\n",
        "donations_anon['city'] = donations_anon['city'].fillna('Не указано')"
      ],
      "execution_count": 33,
      "outputs": []
    },
    {
      "cell_type": "code",
      "metadata": {
        "colab": {
          "base_uri": "https://localhost:8080/"
        },
        "id": "nlmlyPwfrqe9",
        "outputId": "86ce10d9-f800-47b1-80d7-38664b2cb459"
      },
      "source": [
        "donations_anon['country'].value_counts()"
      ],
      "execution_count": 36,
      "outputs": [
        {
          "output_type": "execute_result",
          "data": {
            "text/plain": [
              "Россия        77871\n",
              "Украина       10382\n",
              "Не указано     8568\n",
              "Казахстан       520\n",
              "Беларусь        337\n",
              "Молдова         114\n",
              "Кыргызстан        4\n",
              "Name: country, dtype: int64"
            ]
          },
          "metadata": {
            "tags": []
          },
          "execution_count": 36
        }
      ]
    },
    {
      "cell_type": "markdown",
      "metadata": {
        "id": "Uzzu3zUEtOVc"
      },
      "source": [
        "Если ранее локация конкретной донации была не установлена у порядка 92 тысяч записей, то теперь таковых осталось всего 8500, что составляет порядка 8.8% от всего числа записей (ранее не установлена локация была у 94.2% записей)."
      ]
    },
    {
      "cell_type": "code",
      "metadata": {
        "id": "8hE5I315sXDm"
      },
      "source": [
        ""
      ],
      "execution_count": 34,
      "outputs": []
    }
  ]
}